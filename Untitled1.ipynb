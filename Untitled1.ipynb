{
 "cells": [
  {
   "cell_type": "code",
   "execution_count": 25,
   "metadata": {},
   "outputs": [],
   "source": [
    "import pandas as pd\n",
    "\n",
    "import torch\n",
    "from torch import nn\n",
    "\n",
    "import matplotlib.pyplot as plt"
   ]
  },
  {
   "cell_type": "code",
   "execution_count": 26,
   "metadata": {},
   "outputs": [
    {
     "name": "stdout",
     "output_type": "stream",
     "text": [
      "   Unnamed: 0     x         y\n",
      "0           0   1.0  1.320904\n",
      "1           1   2.0  2.067695\n",
      "2           2   3.0  2.692036\n",
      "3           3   4.0  3.205569\n",
      "4           4   5.0  3.407589\n",
      "5           5   6.0  3.884138\n",
      "6           6   7.0  4.419992\n",
      "7           7   8.0  4.665414\n",
      "8           8   9.0  5.214209\n",
      "9           9  10.0  5.798774\n",
      "0     1.0\n",
      "1     2.0\n",
      "2     3.0\n",
      "3     4.0\n",
      "4     5.0\n",
      "5     6.0\n",
      "6     7.0\n",
      "7     8.0\n",
      "8     9.0\n",
      "9    10.0\n",
      "Name: x, dtype: float64\n",
      "[ 1.  2.  3.  4.  5.  6.  7.  8.  9. 10.]\n",
      "tensor([ 1.,  2.,  3.,  4.,  5.,  6.,  7.,  8.,  9., 10.], dtype=torch.float64)\n",
      "tensor([[ 1.],\n",
      "        [ 2.],\n",
      "        [ 3.],\n",
      "        [ 4.],\n",
      "        [ 5.],\n",
      "        [ 6.],\n",
      "        [ 7.],\n",
      "        [ 8.],\n",
      "        [ 9.],\n",
      "        [10.]], dtype=torch.float64)\n",
      "tensor([[ 1.],\n",
      "        [ 2.],\n",
      "        [ 3.],\n",
      "        [ 4.],\n",
      "        [ 5.],\n",
      "        [ 6.],\n",
      "        [ 7.],\n",
      "        [ 8.],\n",
      "        [ 9.],\n",
      "        [10.]])\n"
     ]
    },
    {
     "data": {
      "image/png": "[encoded data removed]",
      "text/plain": [
       "<Figure size 432x288 with 1 Axes>"
      ]
     },
     "metadata": {
      "needs_background": "light"
     },
     "output_type": "display_data"
    }
   ],
   "source": [
    "data = pd.read_csv('02_Linear_Regression_Model_Data.csv')\n",
    "\n",
    "print(data)\n",
    "print(data['x'])\n",
    "print(data['x'].values)\n",
    "print(torch.from_numpy(data['x'].values))\n",
    "print(torch.from_numpy(data['x'].values).unsqueeze(dim=1))\n",
    "print(torch.from_numpy(data['x'].values).unsqueeze(dim=1).float())\n",
    "\n",
    "# Avoid copy data, just refer\n",
    "x = torch.from_numpy(data['x'].values).unsqueeze(dim=1).float()\n",
    "y = torch.from_numpy(data['y'].values).unsqueeze(dim=1).float()\n",
    "\n",
    "plt.xlim(0, 11);    plt.ylim(0, 8)\n",
    "plt.title('02_Linear_Regression_Model_Data')\n",
    "plt.scatter(x, y)\n",
    "\n",
    "plt.show()"
   ]
  },
  {
   "cell_type": "code",
   "execution_count": 27,
   "metadata": {},
   "outputs": [
    {
     "data": {
      "text/plain": [
       "tensor([[ 1.],\n",
       "        [ 2.],\n",
       "        [ 3.],\n",
       "        [ 4.],\n",
       "        [ 5.],\n",
       "        [ 6.],\n",
       "        [ 7.],\n",
       "        [ 8.],\n",
       "        [ 9.],\n",
       "        [10.]])"
      ]
     },
     "execution_count": 27,
     "metadata": {},
     "output_type": "execute_result"
    }
   ],
   "source": [
    "x"
   ]
  },
  {
   "cell_type": "code",
   "execution_count": 28,
   "metadata": {},
   "outputs": [
    {
     "name": "stdout",
     "output_type": "stream",
     "text": [
      "tensor([[ 1.],\n",
      "        [ 2.],\n",
      "        [ 3.],\n",
      "        [ 4.],\n",
      "        [ 5.],\n",
      "        [ 6.],\n",
      "        [ 7.],\n",
      "        [ 8.],\n",
      "        [ 9.],\n",
      "        [10.]])\n",
      "tensor([[1.6104],\n",
      "        [1.8804],\n",
      "        [2.7874],\n",
      "        [2.8481],\n",
      "        [3.1175],\n",
      "        [4.2735],\n",
      "        [4.3304],\n",
      "        [5.4541],\n",
      "        [5.4691],\n",
      "        [5.8049]])\n"
     ]
    }
   ],
   "source": [
    "x = torch.arange(1, 11, dtype=torch.float).unsqueeze(dim=1)\n",
    "y = x / 2 + 1 + torch.randn(10).unsqueeze(dim=1) / 5\n",
    "\n",
    "data = torch.cat((x, y), dim=1)\n",
    "data = pd.DataFrame(data.numpy())\n",
    "\n",
    "data.to_csv('02_Linear_Regression_Model_Data.csv', header=['x', 'y'])\n",
    "\n",
    "print(x)\n",
    "print(y)"
   ]
  },
  {
   "cell_type": "code",
   "execution_count": 11,
   "metadata": {},
   "outputs": [
    {
     "name": "stdout",
     "output_type": "stream",
     "text": [
      "Linear(in_features=1, out_features=1, bias=True)\n",
      "Parameter containing:\n",
      "tensor([[0.8323]], requires_grad=True)\n",
      "Parameter containing:\n",
      "tensor([-0.4148], requires_grad=True)\n"
     ]
    }
   ],
   "source": [
    "from torch import nn\n",
    "\n",
    "model = nn.Linear(in_features=1, out_features=1, bias=True)\n",
    "print(model)\n",
    "print(model.weight)\n",
    "print(model.bias)"
   ]
  },
  {
   "cell_type": "code",
   "execution_count": 12,
   "metadata": {},
   "outputs": [
    {
     "name": "stdout",
     "output_type": "stream",
     "text": [
      "tensor([[0.4176],\n",
      "        [1.2499],\n",
      "        [2.0822],\n",
      "        [2.9146],\n",
      "        [3.7469],\n",
      "        [4.5792],\n",
      "        [5.4116],\n",
      "        [6.2439],\n",
      "        [7.0762],\n",
      "        [7.9086]], grad_fn=<AddmmBackward>)\n"
     ]
    }
   ],
   "source": [
    "criterion = nn.MSELoss()\n",
    "optimizer = torch.optim.Adam(params=model.parameters(), lr=0.01)\n",
    "\n",
    "print(model(x))"
   ]
  },
  {
   "cell_type": "code",
   "execution_count": 13,
   "metadata": {},
   "outputs": [],
   "source": [
    "for step in range(500):\n",
    "    prediction = model(x)\n",
    "    loss = criterion(input=prediction, target=y)\n",
    "\n",
    "    optimizer.zero_grad()\n",
    "    loss.backward()\n",
    "    optimizer.step()\n",
    "\n",
    "    if step % 20 == 0:\n",
    "        \"\"\"\n",
    "        Show your intermediate results\n",
    "        \"\"\"\n",
    "        pass"
   ]
  },
  {
   "cell_type": "code",
   "execution_count": 14,
   "metadata": {},
   "outputs": [
    {
     "data": {
      "image/png": "[encoded data removed]",
      "text/plain": [
       "<Figure size 432x288 with 1 Axes>"
      ]
     },
     "metadata": {
      "needs_background": "light"
     },
     "output_type": "display_data"
    }
   ],
   "source": [
    "def display_results(model, x, y):\n",
    "    prediction = model(x)\n",
    "    loss = criterion(input=prediction, target=y)\n",
    "    \n",
    "    plt.clf()\n",
    "    plt.xlim(0, 11);    plt.ylim(0, 8)\n",
    "    plt.scatter(x.data.numpy(), y.data.numpy())\n",
    "    plt.plot(x.data.numpy(), prediction.data.numpy(), 'b--')\n",
    "    plt.title('loss={:.4}, w={:.4}, b={:.4}'.format(loss.data.item(), model.weight.data.item(), model.bias.data.item()))\n",
    "    plt.show()\n",
    "    # plt.savefig('results/02_Linear_Regression_Model_trained.png')\n",
    "\n",
    "display_results(model, x, y)"
   ]
  },
  {
   "cell_type": "code",
   "execution_count": null,
   "metadata": {},
   "outputs": [],
   "source": []
  }
 ],
 "metadata": {
  "kernelspec": {
   "display_name": "pytorch",
   "language": "python",
   "name": "pytorch"
  },
  "language_info": {
   "codemirror_mode": {
    "name": "ipython",
    "version": 3
   },
   "file_extension": ".py",
   "mimetype": "text/x-python",
   "name": "python",
   "nbconvert_exporter": "python",
   "pygments_lexer": "ipython3",
   "version": "3.7.13"
  }
 },
 "nbformat": 4,
 "nbformat_minor": 4
}
